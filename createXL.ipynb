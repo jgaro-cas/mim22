{
 "cells": [
  {
   "cell_type": "markdown",
   "metadata": {},
   "source": [
    "### Data to extract"
   ]
  },
  {
   "cell_type": "code",
   "execution_count": 1,
   "metadata": {},
   "outputs": [],
   "source": [
    "datas =[\n",
    "    {\n",
    "        \"id\": 6, \n",
    "        \"first_name\": \"J\\u00e9r\\u00f4me\", \n",
    "        \"last_name\": \"Garo\", \n",
    "        \"mail\": \"jerome.garo@gmail.com\", \n",
    "        \"phone\": \"+41797401143\", \n",
    "        \"workblocks\": [{\n",
    "            \"id\": 1, \n",
    "            \"block_start\": \"2022-09-17 13:00:00\", \n",
    "            \"block_stop\": \"2022-09-17 16:00:00\", \n",
    "            \"workplace_id\": 1, \n",
    "            \"volunteer_number\": 20, \n",
    "            \"created_at\": \"2022-08-04T18:10:39.000000Z\", \n",
    "            \"updated_at\": \"2022-08-28T17:02:38.000000Z\", \n",
    "            \"readable_start\": \"Sam 17 septembre 13:00\", \n",
    "            \"readable_stop\": \"Sam 17 septembre 16:00\", \n",
    "            \"pivot\": {\n",
    "                \"volunteer_id\": 6, \n",
    "                \"workblock_id\": 1\n",
    "            }, \n",
    "            \"workplaces\": {\n",
    "                \"id\": 1, \n",
    "                \"name\": \"Commissaires de course\", \n",
    "                \"created_at\": \"2022-08-04T18:06:58.000000Z\", \n",
    "                \"updated_at\": \"2022-08-04T18:06:58.000000Z\"\n",
    "            }\n",
    "        }]\n",
    "    }, \n",
    "    {\n",
    "        \"id\": 7, \n",
    "        \"first_name\": \"J\\u00e9r\\u00f4me\", \n",
    "        \"last_name\": \"Garo\", \n",
    "        \"mail\": \"jerome.garo@gmail.com\", \n",
    "        \"phone\": \"+41797401143\", \n",
    "        \"workblocks\": [{\n",
    "            \"id\": 1, \n",
    "            \"block_start\": \"2022-09-17 13:00:00\", \n",
    "            \"block_stop\": \"2022-09-17 16:00:00\", \n",
    "            \"workplace_id\": 1, \n",
    "            \"volunteer_number\": 20, \n",
    "            \"created_at\": \"2022-08-04T18:10:39.000000Z\", \n",
    "            \"updated_at\": \"2022-08-28T17:02:38.000000Z\", \n",
    "            \"readable_start\": \"Sam 17 septembre 13:00\", \n",
    "            \"readable_stop\": \"Sam 17 septembre 16:00\", \n",
    "            \"pivot\": {\n",
    "                \"volunteer_id\": 7, \n",
    "                \"workblock_id\": 1\n",
    "            }, \n",
    "            \"workplaces\": {\n",
    "                \"id\": 1, \n",
    "                \"name\": \"Bar\", \n",
    "                \"created_at\": \"2022-08-04T18:06:58.000000Z\", \n",
    "                \"updated_at\": \"2022-08-04T18:06:58.000000Z\"\n",
    "            }\n",
    "        }]\n",
    "    },\n",
    "    {\n",
    "        \"id\": 8, \n",
    "        \"first_name\": \"J\\u00e9r\\u00f4me\", \n",
    "        \"last_name\": \"Garo\", \n",
    "        \"mail\": \"jerome.garo@gmail.com\", \n",
    "        \"phone\": \"+41797401143\", \n",
    "        \"workblocks\": [{\n",
    "            \"id\": 1,\n",
    "            \"block_start\": \"2022-09-17 13:00:00\", \n",
    "            \"block_stop\": \"2022-09-17 16:00:00\", \n",
    "            \"workplace_id\": 1, \n",
    "            \"volunteer_number\": 20, \n",
    "            \"created_at\": \"2022-08-04T18:10:39.000000Z\", \n",
    "            \"updated_at\": \"2022-08-28T17:02:38.000000Z\", \n",
    "            \"readable_start\": \"Sam 17 septembre 13:00\", \n",
    "            \"readable_stop\": \"Sam 17 septembre 16:00\", \n",
    "            \"pivot\": {\n",
    "                \"volunteer_id\": 8, \n",
    "                \"workblock_id\": 1\n",
    "            }, \n",
    "            \"workplaces\": {\n",
    "                \"id\": 1, \n",
    "                \"name\": \"Commissaires de course\", \n",
    "                \"created_at\": \"2022-08-04T18:06:58.000000Z\", \n",
    "                \"updated_at\": \"2022-08-04T18:06:58.000000Z\"\n",
    "            }\n",
    "        }]\n",
    "    }, \n",
    "    {\n",
    "        \"id\": 9, \n",
    "        \"first_name\": \"J\\u00e9r\\u00f4me\", \n",
    "        \"last_name\": \"Garo\", \n",
    "        \"mail\": \"jerome.garo@gmail.com\", \n",
    "        \"phone\": \"+41797401143\", \n",
    "        \"workblocks\": [{\n",
    "            \"id\": 1, \n",
    "            \"block_start\": \"2022-09-17 13:00:00\", \n",
    "            \"block_stop\": \"2022-09-17 16:00:00\", \n",
    "            \"workplace_id\": 1, \n",
    "            \"volunteer_number\": 20, \n",
    "            \"created_at\": \"2022-08-04T18:10:39.000000Z\", \n",
    "            \"updated_at\": \"2022-08-28T17:02:38.000000Z\", \n",
    "            \"readable_start\": \"Sam 17 septembre 13:00\", \n",
    "            \"readable_stop\": \"Sam 17 septembre 16:00\", \n",
    "            \"pivot\": {\n",
    "                \"volunteer_id\": 9, \n",
    "                \"workblock_id\": 1\n",
    "            }, \n",
    "            \"workplaces\": {\n",
    "                \"id\": 1, \n",
    "                \"name\": \"Commissaires de course\", \n",
    "                \"created_at\": \"2022-08-04T18:06:58.000000Z\", \n",
    "                \"updated_at\": \"2022-08-04T18:06:58.000000Z\"\n",
    "            }\n",
    "        }]\n",
    "    }\n",
    "]\n"
   ]
  },
  {
   "cell_type": "markdown",
   "metadata": {},
   "source": [
    "### Install & Import"
   ]
  },
  {
   "cell_type": "code",
   "execution_count": 2,
   "metadata": {},
   "outputs": [
    {
     "name": "stdout",
     "output_type": "stream",
     "text": [
      "Requirement already satisfied: openpyxl in d:\\garoeventmanagement\\mim22\\volunterrmanagement\\venv\\lib\\site-packages (3.0.10)\n",
      "Requirement already satisfied: et-xmlfile in d:\\garoeventmanagement\\mim22\\volunterrmanagement\\venv\\lib\\site-packages (from openpyxl) (1.1.0)\n",
      "Note: you may need to restart the kernel to use updated packages.\n"
     ]
    },
    {
     "name": "stderr",
     "output_type": "stream",
     "text": [
      "WARNING: You are using pip version 21.2.3; however, version 22.2.2 is available.\n",
      "You should consider upgrading via the 'd:\\GaroEVentMAnagement\\MiM22\\VolunterrManagement\\venv\\Scripts\\python.exe -m pip install --upgrade pip' command.\n"
     ]
    },
    {
     "name": "stdout",
     "output_type": "stream",
     "text": [
      "Requirement already satisfied: pandas in d:\\garoeventmanagement\\mim22\\volunterrmanagement\\venv\\lib\\site-packages (1.4.4)\n",
      "Requirement already satisfied: pytz>=2020.1 in d:\\garoeventmanagement\\mim22\\volunterrmanagement\\venv\\lib\\site-packages (from pandas) (2022.2.1)\n",
      "Requirement already satisfied: python-dateutil>=2.8.1 in d:\\garoeventmanagement\\mim22\\volunterrmanagement\\venv\\lib\\site-packages (from pandas) (2.8.2)\n",
      "Requirement already satisfied: numpy>=1.18.5 in d:\\garoeventmanagement\\mim22\\volunterrmanagement\\venv\\lib\\site-packages (from pandas) (1.23.2)\n",
      "Requirement already satisfied: six>=1.5 in d:\\garoeventmanagement\\mim22\\volunterrmanagement\\venv\\lib\\site-packages (from python-dateutil>=2.8.1->pandas) (1.16.0)\n",
      "Note: you may need to restart the kernel to use updated packages.\n"
     ]
    },
    {
     "name": "stderr",
     "output_type": "stream",
     "text": [
      "WARNING: You are using pip version 21.2.3; however, version 22.2.2 is available.\n",
      "You should consider upgrading via the 'd:\\GaroEVentMAnagement\\MiM22\\VolunterrManagement\\venv\\Scripts\\python.exe -m pip install --upgrade pip' command.\n"
     ]
    }
   ],
   "source": [
    "# !!! Create a venv before\n",
    "%pip install openpyxl\n",
    "%pip install pandas"
   ]
  },
  {
   "cell_type": "code",
   "execution_count": 3,
   "metadata": {},
   "outputs": [],
   "source": [
    "from openpyxl import Workbook\n",
    "import numpy as np\n",
    "import pandas as pd\n",
    "from datetime import datetime\n"
   ]
  },
  {
   "cell_type": "markdown",
   "metadata": {},
   "source": [
    "### Extract datas"
   ]
  },
  {
   "cell_type": "code",
   "execution_count": 21,
   "metadata": {},
   "outputs": [
    {
     "name": "stdout",
     "output_type": "stream",
     "text": [
      "['Commissaires de course', 'Bar']\n",
      "    Nom  Prénom     Téléphone                   Mail                   Place  \\\n",
      "0  Garo  Jérôme  +41797401143  jerome.garo@gmail.com  Commissaires de course   \n",
      "1  Garo  Jérôme  +41797401143  jerome.garo@gmail.com                     Bar   \n",
      "2  Garo  Jérôme  +41797401143  jerome.garo@gmail.com  Commissaires de course   \n",
      "3  Garo  Jérôme  +41797401143  jerome.garo@gmail.com  Commissaires de course   \n",
      "\n",
      "         Date        De         À  \n",
      "0  2022-09-17  13:00:00  16:00:00  \n",
      "1  2022-09-17  13:00:00  16:00:00  \n",
      "2  2022-09-17  13:00:00  16:00:00  \n",
      "3  2022-09-17  13:00:00  16:00:00  \n"
     ]
    }
   ],
   "source": [
    "\n",
    "\n",
    "workplaces = []\n",
    "\n",
    "for register in datas:\n",
    "    for workblock in register['workblocks']:\n",
    "        if workblock['workplaces']['name'] not in workplaces: \n",
    "            workplaces.append(workblock['workplaces']['name'])\n",
    "        \n",
    "        \n",
    "print(workplaces)\n",
    "\n",
    "df = pd.DataFrame(columns=['Nom', 'Prénom', 'Téléphone', 'Mail', 'Place', 'Date', 'De', 'À'])\n",
    "\n",
    "\n",
    "for register in datas :\n",
    "    for workblock in register['workblocks']:\n",
    "        entry = pd.DataFrame({\n",
    "            'Nom' : register['last_name'],\n",
    "            'Prénom' : register['first_name'],\n",
    "            'Téléphone' : register['phone'],\n",
    "            'Mail' : register['mail'],\n",
    "            'Place' : workblock['workplaces']['name'],\n",
    "            'Date' : datetime.strptime(workblock['block_start'], '%Y-%m-%d %H:%M:%S').date(),\n",
    "            'De' : datetime.strptime(workblock['block_start'], '%Y-%m-%d %H:%M:%S').time(),\n",
    "            'À' : datetime.strptime(workblock['block_stop'], '%Y-%m-%d %H:%M:%S').time()\n",
    "        }, index=[0])\n",
    "        # entry = [\n",
    "        #     register['last_name'],\n",
    "        #     register['first_name'],\n",
    "        #     register['phone'],\n",
    "        #     register['mail'],\n",
    "        #     workblock['workplaces']['name'],\n",
    "        #     datetime.strptime(workblock['block_start'], '%Y-%m-%d %H:%M:%S').date(),\n",
    "        #     datetime.strptime(workblock['block_start'], '%Y-%m-%d %H:%M:%S').time(),\n",
    "        #     datetime.strptime(workblock['block_stop'], '%Y-%m-%d %H:%M:%S').time()\n",
    "        # ]\n",
    "        df = pd.concat([df, entry], ignore_index=True)\n",
    "#        df = df.append(entry, ignore_index=True)\n",
    "\n",
    "print(df)"
   ]
  },
  {
   "cell_type": "code",
   "execution_count": null,
   "metadata": {},
   "outputs": [],
   "source": []
  }
 ],
 "metadata": {
  "kernelspec": {
   "display_name": "Python 3.9.7 ('venv': venv)",
   "language": "python",
   "name": "python3"
  },
  "language_info": {
   "codemirror_mode": {
    "name": "ipython",
    "version": 3
   },
   "file_extension": ".py",
   "mimetype": "text/x-python",
   "name": "python",
   "nbconvert_exporter": "python",
   "pygments_lexer": "ipython3",
   "version": "3.9.7"
  },
  "orig_nbformat": 4,
  "vscode": {
   "interpreter": {
    "hash": "20b19a3fdcdeb1e58321956d9fbd5e77f414b6b446d361c54f9f57e6388a090b"
   }
  }
 },
 "nbformat": 4,
 "nbformat_minor": 2
}
